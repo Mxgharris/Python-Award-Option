{
 "cells": [
  {
   "cell_type": "markdown",
   "metadata": {},
   "source": [
    "## Week 1: Introduction to Git and GitHub\n",
    "### Objectives\n",
    "By the end of this session, you will be able to:\n",
    "1. Understand the benefits of using GitHub for version control and collaboration.\n",
    "2. Create a GitHub account and set up your first repository by forking an existing one.\n",
    "3. Use markdown to create an introductory page for your repository.\n",
    "4. Create and commit an `.ipynb` file to your repository.\n",
    "5. Understand the basics of committing changes and version control.\n",
    "\n",
    "---\n",
    "\n",
    "### Part 1: Why Use GitHub?\n",
    "GitHub is an essential tool for:\n",
    "- **Version Control**: Keep track of changes to your code and revert if needed.\n",
    "- **Collaboration**: Work with peers on shared projects.\n",
    "- **Portfolio Building**: Showcase your work to universities or potential employers.\n",
    "\n",
    "---\n",
    "\n",
    "### Part 2: Getting Started\n",
    "#### Step 1: Sign Up for GitHub\n",
    "1. Visit [GitHub](https://github.com) and create an account.\n",
    "2. Verify your email address.\n",
    "\n",
    "#### Step 2: Fork a Repository\n",
    "1. Open the shared link to the class repository.\n",
    "2. Click the **Fork** button (top-right corner) to create your own copy of the repository.\n",
    "\n",
    "#### Step 3: Clone Your Repository Locally\n",
    "1. On your forked repository page, click the green **Code** button and copy the HTTPS URL.\n",
    "2. Open a terminal and type:\n",
    "   ```bash\n",
    "   git clone <repository_url>\n",
    "   Replace <repository_url> with the URL you copied.\n",
    "\n",
    "#### Step 4: Open the Repository in VSCode or Jupyter Notebook\n",
    "1. Navigate to the cloned folder on your machine.\n",
    "2. Open the folder in your editor (VSCode or Jupyter Notebook).\n",
    "\n",
    "---\n",
    "### Part 3: Create an Introductory Page\n",
    "#### Task:\n",
    "1. In your forked repository, create a new file called README.md.\n",
    "2.  Use Markdown to introduce yourself and describe the purpose of your repository. \n",
    "\n",
    "[Here is a Mark Down Cheat Sheet](https://www.howtogeek.com/markdown-cheat-sheet/)\n",
    "\n",
    "***For example***\n",
    "---\n",
    "#### My First GitHub Repository\n",
    "\n",
    "Hi, This repository contains my learning resources and tasks for Week 1.\n",
    "\n",
    "#### Commit the changes:\n",
    "\n",
    "git add README.md\n",
    "\n",
    "git commit -m \"Add introductory README\"\n",
    "\n",
    "git push"
   ]
  },
  {
   "cell_type": "markdown",
   "metadata": {},
   "source": []
  },
  {
   "cell_type": "markdown",
   "metadata": {},
   "source": [
    "#### Installing Git on a Raspberry Pi\n",
    "\n",
    "Laauch the Terminal and execute the command below to update the system\n",
    "<pre>\n",
    "<code>\n",
    "sudo apt update\n",
    "sudo apt upgrade\n",
    "</code>\n",
    "</pre>\n",
    "\n",
    "Execute the command below to install Git\n",
    "<pre>\n",
    "<code>\n",
    "sudo apt install git\n",
    "</code>\n",
    "</pre>\n",
    "\n",
    "Use this command to confirm Git has been successfully installed\n",
    "<pre>\n",
    "<code>\n",
    "sudo apt install git\n",
    "</code>\n",
    "</pre>\n",
    "\n",
    "Configure Git\n",
    "<pre>\n",
    "<code>\n",
    "git config --global user.name \"Github_username\"\n",
    "git config --global user.email \"Github_email\"\n",
    "</code>\n",
    "</pre>\n",
    "\n",
    "Check if the detals are correct\n",
    "<pre><code> config --list</code></pre>\n",
    "\n",
    "### Other useful git commands\n",
    "\n",
    "- git status - gives detailed information about the local repository\n",
    "- git add *  - Add all untracked files and modified changes\n",
    "- git commit -m \"Home page update\" - saves all changes in the local repo to be pushed into the remote repo\n",
    "- git\n"
   ]
  },
  {
   "cell_type": "code",
   "execution_count": 2,
   "metadata": {},
   "outputs": [
    {
     "name": "stdout",
     "output_type": "stream",
     "text": [
      "Hello \n"
     ]
    }
   ],
   "source": [
    "print(\"Hello \")"
   ]
  }
 ],
 "metadata": {
  "kernelspec": {
   "display_name": "Python 3 (ipykernel)",
   "language": "python",
   "name": "python3"
  },
  "language_info": {
   "codemirror_mode": {
    "name": "ipython",
    "version": 3
   },
   "file_extension": ".py",
   "mimetype": "text/x-python",
   "name": "python",
   "nbconvert_exporter": "python",
   "pygments_lexer": "ipython3",
   "version": "3.12.1"
  }
 },
 "nbformat": 4,
 "nbformat_minor": 2
}
