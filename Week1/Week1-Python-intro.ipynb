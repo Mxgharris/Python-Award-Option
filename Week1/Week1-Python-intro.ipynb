{
 "cells": [
  {
   "cell_type": "markdown",
   "metadata": {},
   "source": [
    "### Week 1: Introduction to Python Programming\n",
    "\n",
    "### Lesson Objectives:\n",
    "- Understand Python syntax, variables, and basic data types.\n",
    "- Write simple scripts using input/output with basic calculations.\n",
    "- Learn to define and use simple functions (subroutines)\n",
    "\n",
    "### Concepts:\n",
    "1. **Variable Assignment and Data Types**:\n",
    "   - Variables are used to store information to be referenced and manipulated in a program.\n",
    "   - Common data types include:\n",
    "     - `int` (integer): Whole numbers, e.g., `5`, `-3`\n",
    "     - `float` (floating-point): Decimal numbers, e.g., `3.14`, `-0.001`\n",
    "     - `str` (string): Sequence of characters, e.g., `\"hello\"`, `\"123\"`\n",
    "\n",
    "2. **Input and Output**:\n",
    "   - `input()`: Function to take user input.\n",
    "   - `print()`: Function to display output to the console.\n",
    "   - Example:\n",
    "     ```python\n",
    "     name = input(\"Enter your name: \")\n",
    "     print(f\"Hello, {name}!\")\n",
    "     ```\n",
    "\n",
    "3. **Simple Mathematical Operations**:\n",
    "   - Basic arithmetic operations: `+` (addition), `-` (subtraction), `*` (multiplication), `/` (division).\n",
    "   - Example:\n",
    "     ```python\n",
    "     a = 10\n",
    "     b = 5\n",
    "     sum = a + b\n",
    "     print(f\"The sum of {a} and {b} is {sum}\")\n",
    "     ```\n",
    "\n",
    "4. **String Concatenation using f-strings**:\n",
    "   - f-strings provide a way to embed expressions inside string literals, using curly braces `{}`.\n",
    "   - Example:\n",
    "     ```python\n",
    "     age = 20\n",
    "     print(f\"I am {age} years old\")\n",
    "     ```\n",
    "5. **Functions (Subroutines)**:\n",
    "   - Functions are blocks of code that perform a specific task and can be reused.\n",
    "   - Defined using the `def` keyword.\n",
    "   - Example:\n",
    "     ```python\n",
    "     def greet(name):\n",
    "         print(f\"Hello, {name}!\")\n",
    "     \n",
    "     greet(\"Alice\")\n",
    "     ```\n",
    "\n",
    "6. **Functions with Return Values**:\n",
    "   - Functions can return a value using the `return` keyword.\n",
    "   - Example:\n",
    "     ```python\n",
    "     def add(a, b):\n",
    "         return a + b\n",
    "     \n",
    "     result = add(3, 4)\n",
    "     print(f\"The sum is {result}\")\n",
    "     ```"
   ]
  },
  {
   "cell_type": "markdown",
   "metadata": {},
   "source": [
    "### Challenges\n",
    "\n",
    "#### **Add a new code cell for each of the tasks below  and code them**\n",
    "\n",
    "#### Challenge 1:\n",
    "\n",
    "#### **Task 1: Temperature Converter**\n",
    "   - Write a program that takes temperatures as user input and converts the input temperatures from Celcius to Fahrenheit and from Fahrenheit \n",
    "    to Celcius using functions\n",
    "   - all variable names are meaningful\n",
    "   - Formula: `F = C * 9/5 + 32`, `C = (F-32) * 5/9`\n",
    "   - Create a main subroutine with calls to output meaningful messages as shown in the example below:\n",
    "   \n",
    "   ![Example Output](../images/cel_to_fahrenheit.png)\n",
    "\n",
    "#### **Task 2: Enhanced Calculator with Functions**\n",
    "   - Create a calculator that takes two numbers and performs addition, subtraction, multiplication, and 3 types of division (normal, integer and modulus).  Use functions for each operation and a main subroutine which calls the functions and outputs results\n",
    "   - Output meaningful messages as illustrated in the example below\n",
    "\n",
    "   ![Simple Calculator Output](../images/simpleCalc.png)\n",
    "\n",
    "#### **Task 3: String Manipulation with functions**\n",
    "   - Write a program that takes a user's full name as input and prints the initials, total number of characters (excluding spaces), and the name in reverse order.\n",
    "   - You will need to use following string methods .find(), .upper() and .replace()\n",
    "   - Use separate functions for getting the initials, counting characters and reversing the name. \n",
    "   - Write subroutine to put it all together and produce meaningful output as shown below:\n",
    "\n",
    "   ![Initials Generator](../images/initialsGen.png)"
   ]
  },
  {
   "cell_type": "code",
   "execution_count": 1,
   "metadata": {},
   "outputs": [
    {
     "name": "stdout",
     "output_type": "stream",
     "text": [
      "Hello\n"
     ]
    }
   ],
   "source": [
    "print(\"Hello\")"
   ]
  }
 ],
 "metadata": {
  "kernelspec": {
   "display_name": "Python 3 (ipykernel)",
   "language": "python",
   "name": "python3"
  },
  "language_info": {
   "codemirror_mode": {
    "name": "ipython",
    "version": 3
   },
   "file_extension": ".py",
   "mimetype": "text/x-python",
   "name": "python",
   "nbconvert_exporter": "python",
   "pygments_lexer": "ipython3",
   "version": "3.12.1"
  }
 },
 "nbformat": 4,
 "nbformat_minor": 2
}
